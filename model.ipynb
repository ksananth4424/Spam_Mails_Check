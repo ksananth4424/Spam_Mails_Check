{
 "cells": [
  {
   "cell_type": "code",
   "execution_count": 79,
   "metadata": {},
   "outputs": [],
   "source": [
    "import numpy as np\n",
    "import pandas as pd\n",
    "import matplotlib.pyplot as plt\n",
    "import seaborn as sns\n",
    "from sklearn.model_selection import train_test_split\n",
    "from sklearn.feature_extraction.text import TfidfVectorizer\n",
    "from sklearn.linear_model import LogisticRegression\n",
    "from sklearn.metrics import accuracy_score"
   ]
  },
  {
   "cell_type": "code",
   "execution_count": 45,
   "id": "f66d6834",
   "metadata": {},
   "outputs": [],
   "source": [
    "raw_data = pd.read_csv('Data_from_mails.csv')"
   ]
  },
  {
   "cell_type": "code",
   "execution_count": 84,
   "id": "619e4e14",
   "metadata": {},
   "outputs": [
    {
     "data": {
      "image/png": "[encoded data removed]",
      "text/plain": [
       "<Figure size 640x480 with 1 Axes>"
      ]
     },
     "metadata": {},
     "output_type": "display_data"
    }
   ],
   "source": [
    "sns.countplot(x='Category', data=raw_data)\n",
    "plt.show()"
   ]
  },
  {
   "cell_type": "code",
   "execution_count": 47,
   "id": "26ec3b1f",
   "metadata": {},
   "outputs": [],
   "source": [
    "mail_data = raw_data.where((pd.notnull(raw_data)),'')"
   ]
  },
  {
   "cell_type": "code",
   "execution_count": 48,
   "id": "25225a06",
   "metadata": {},
   "outputs": [
    {
     "data": {
      "text/html": [
       "<div>\n",
       "<style scoped>\n",
       "    .dataframe tbody tr th:only-of-type {\n",
       "        vertical-align: middle;\n",
       "    }\n",
       "\n",
       "    .dataframe tbody tr th {\n",
       "        vertical-align: top;\n",
       "    }\n",
       "\n",
       "    .dataframe thead th {\n",
       "        text-align: right;\n",
       "    }\n",
       "</style>\n",
       "<table border=\"1\" class=\"dataframe\">\n",
       "  <thead>\n",
       "    <tr style=\"text-align: right;\">\n",
       "      <th></th>\n",
       "      <th>TimeStamp</th>\n",
       "      <th>Thread Count</th>\n",
       "      <th>From Email</th>\n",
       "      <th>To Email</th>\n",
       "      <th>Mail Subject</th>\n",
       "      <th>Email Content</th>\n",
       "      <th>Category</th>\n",
       "    </tr>\n",
       "  </thead>\n",
       "  <tbody>\n",
       "    <tr>\n",
       "      <th>0</th>\n",
       "      <td>26-08-2023</td>\n",
       "      <td>1</td>\n",
       "      <td>cloudHQ &lt;support@cloudhq.net&gt;</td>\n",
       "      <td>cs22btech11029@iith.ac.in</td>\n",
       "      <td>Backup Emails to Google Sheets: free quota rea...</td>\n",
       "      <td>\\nYou hit your free tier limit - please upgra...</td>\n",
       "      <td>spam</td>\n",
       "    </tr>\n",
       "    <tr>\n",
       "      <th>1</th>\n",
       "      <td>26-08-2023</td>\n",
       "      <td>1</td>\n",
       "      <td>cloudHQ &lt;support@cloudhq.net&gt;</td>\n",
       "      <td>cs22btech11029@iith.ac.in</td>\n",
       "      <td>Seeing is believing: Save this email to Google...</td>\n",
       "      <td>\\nWelcome to Emails to Sheets! ‌ ‌ ‌ ‌  ‌  ‌ ...</td>\n",
       "      <td>ham</td>\n",
       "    </tr>\n",
       "    <tr>\n",
       "      <th>2</th>\n",
       "      <td>26-08-2023</td>\n",
       "      <td>3</td>\n",
       "      <td>Google &lt;no-reply@accounts.google.com&gt;</td>\n",
       "      <td>cs22btech11029@iith.ac.in</td>\n",
       "      <td>Security alert</td>\n",
       "      <td>[image: Google]\\r\\nApp password created to sig...</td>\n",
       "      <td>ham</td>\n",
       "    </tr>\n",
       "    <tr>\n",
       "      <th>3</th>\n",
       "      <td>26-08-2023</td>\n",
       "      <td>3</td>\n",
       "      <td>Google &lt;no-reply@accounts.google.com&gt;</td>\n",
       "      <td>cs22btech11029@iith.ac.in</td>\n",
       "      <td>Security alert</td>\n",
       "      <td>[image: Google]\\r\\nApp password used to sign i...</td>\n",
       "      <td>ham</td>\n",
       "    </tr>\n",
       "    <tr>\n",
       "      <th>4</th>\n",
       "      <td>26-08-2023</td>\n",
       "      <td>3</td>\n",
       "      <td>Google &lt;no-reply@accounts.google.com&gt;</td>\n",
       "      <td>cs22btech11029@iith.ac.in</td>\n",
       "      <td>Security alert</td>\n",
       "      <td>[image: Google]\\r\\nApp password created to sig...</td>\n",
       "      <td>ham</td>\n",
       "    </tr>\n",
       "  </tbody>\n",
       "</table>\n",
       "</div>"
      ],
      "text/plain": [
       "    TimeStamp  Thread Count                             From Email   \n",
       "0  26-08-2023             1          cloudHQ <support@cloudhq.net>  \\\n",
       "1  26-08-2023             1          cloudHQ <support@cloudhq.net>   \n",
       "2  26-08-2023             3  Google <no-reply@accounts.google.com>   \n",
       "3  26-08-2023             3  Google <no-reply@accounts.google.com>   \n",
       "4  26-08-2023             3  Google <no-reply@accounts.google.com>   \n",
       "\n",
       "                    To Email   \n",
       "0  cs22btech11029@iith.ac.in  \\\n",
       "1  cs22btech11029@iith.ac.in   \n",
       "2  cs22btech11029@iith.ac.in   \n",
       "3  cs22btech11029@iith.ac.in   \n",
       "4  cs22btech11029@iith.ac.in   \n",
       "\n",
       "                                        Mail Subject   \n",
       "0  Backup Emails to Google Sheets: free quota rea...  \\\n",
       "1  Seeing is believing: Save this email to Google...   \n",
       "2                                     Security alert   \n",
       "3                                     Security alert   \n",
       "4                                     Security alert   \n",
       "\n",
       "                                       Email Content Category  \n",
       "0   \\nYou hit your free tier limit - please upgra...     spam  \n",
       "1   \\nWelcome to Emails to Sheets! ‌ ‌ ‌ ‌  ‌  ‌ ...      ham  \n",
       "2  [image: Google]\\r\\nApp password created to sig...      ham  \n",
       "3  [image: Google]\\r\\nApp password used to sign i...      ham  \n",
       "4  [image: Google]\\r\\nApp password created to sig...      ham  "
      ]
     },
     "execution_count": 48,
     "metadata": {},
     "output_type": "execute_result"
    }
   ],
   "source": [
    "mail_data.head()"
   ]
  },
  {
   "cell_type": "code",
   "execution_count": 83,
   "id": "98104dfc",
   "metadata": {},
   "outputs": [
    {
     "data": {
      "image/png": "[encoded data removed]",
      "text/plain": [
       "<Figure size 640x480 with 1 Axes>"
      ]
     },
     "metadata": {},
     "output_type": "display_data"
    }
   ],
   "source": [
    "sns.countplot(x='Category', data=mail_data)\n",
    "plt.show()"
   ]
  },
  {
   "cell_type": "code",
   "execution_count": 49,
   "metadata": {},
   "outputs": [
    {
     "data": {
      "text/plain": [
       "(3979, 7)"
      ]
     },
     "execution_count": 49,
     "metadata": {},
     "output_type": "execute_result"
    }
   ],
   "source": [
    "mail_data.shape"
   ]
  },
  {
   "cell_type": "code",
   "execution_count": 50,
   "id": "9e067476",
   "metadata": {},
   "outputs": [],
   "source": [
    "mail_data.loc[mail_data['Category'] == 'spam', 'Category',] = 0\n",
    "mail_data.loc[mail_data['Category'] == 'ham', 'Category',] = 1"
   ]
  },
  {
   "cell_type": "code",
   "execution_count": 53,
   "id": "26a5da58",
   "metadata": {},
   "outputs": [],
   "source": [
    "X = mail_data['Mail Subject']+mail_data['Email Content']\n",
    "\n",
    "Y = mail_data['Category']"
   ]
  },
  {
   "cell_type": "code",
   "execution_count": 56,
   "id": "c4d9438e",
   "metadata": {},
   "outputs": [],
   "source": [
    "X_train, X_test, Y_train, Y_test = train_test_split(X, Y, test_size=0.2, random_state=3)"
   ]
  },
  {
   "cell_type": "code",
   "execution_count": 57,
   "id": "9120c90b",
   "metadata": {},
   "outputs": [
    {
     "name": "stdout",
     "output_type": "stream",
     "text": [
      "(3979,)\n",
      "(3183,)\n",
      "(796,)\n"
     ]
    }
   ],
   "source": [
    "print(X.shape)\n",
    "print(X_train.shape)\n",
    "print(X_test.shape)"
   ]
  },
  {
   "cell_type": "code",
   "execution_count": 68,
   "id": "5ca5d584",
   "metadata": {},
   "outputs": [],
   "source": [
    "feature_extraction = TfidfVectorizer(min_df = 1, stop_words='english', lowercase=bool(True))\n",
    "X_train_features = feature_extraction.fit_transform(X_train)\n",
    "X_test_features = feature_extraction.transform(X_test)\n",
    "Y_train = Y_train.astype('int')\n",
    "Y_test = Y_test.astype('int')"
   ]
  },
  {
   "cell_type": "code",
   "execution_count": 69,
   "metadata": {},
   "outputs": [
    {
     "name": "stdout",
     "output_type": "stream",
     "text": [
      "3974    Re: Reg. Aalla Sai Chakradhar APS-IDear all,\\r...\n",
      "2298    Re: Kuchipudi trainingDear All\\r\\n\\r\\nThis is ...\n",
      "1177    Enhancing the aspirations of students of nearb...\n",
      "1090    Open Colloquium Anouncement Mr Amandeep SIngh,...\n",
      "2191    Re: Regarding Mess Food in Tiffin BoxI don't k...\n",
      "                              ...                        \n",
      "3000    Room Decor items and Organizers for saleHello ...\n",
      "1667    Items for saleHello everyone,\\r\\nSorry for spa...\n",
      "3321    Re: Geotechnical Engineering Industrial Semina...\n",
      "1688    New announcement: \"@Batch-2 students: \\n\\nDue ...\n",
      "1898    Re: Viva voce examination of Mr. Muneshwar Nan...\n",
      "Length: 3183, dtype: object\n"
     ]
    }
   ],
   "source": [
    "print(X_train)"
   ]
  },
  {
   "cell_type": "code",
   "execution_count": 70,
   "id": "5a24604d",
   "metadata": {},
   "outputs": [
    {
     "name": "stdout",
     "output_type": "stream",
     "text": [
      "  (0, 13515)\t0.03577728201553295\n",
      "  (0, 2585)\t0.03921051422254323\n",
      "  (0, 7706)\t0.1161868749170358\n",
      "  (0, 18500)\t0.03862781513757156\n",
      "  (0, 26991)\t0.034468129740195405\n",
      "  (0, 27295)\t0.0365369521852366\n",
      "  (0, 10816)\t0.037919919903099904\n",
      "  (0, 26889)\t0.03320155551380358\n",
      "  (0, 23472)\t0.03607617836052652\n",
      "  (0, 11671)\t0.03370167428116442\n",
      "  (0, 21938)\t0.03660404398622345\n",
      "  (0, 24632)\t0.03694445665236723\n",
      "  (0, 26411)\t0.06936235223719205\n",
      "  (0, 13729)\t0.06951893142606265\n",
      "  (0, 13733)\t0.07583983980619981\n",
      "  (0, 24811)\t0.038421847811972824\n",
      "  (0, 17929)\t0.031180732185905623\n",
      "  (0, 21937)\t0.03444892310210357\n",
      "  (0, 24246)\t0.014870352267600027\n",
      "  (0, 17544)\t0.014875034836838337\n",
      "  (0, 26530)\t0.014860991866701397\n",
      "  (0, 23495)\t0.014665868015793655\n",
      "  (0, 11659)\t0.028299346533942452\n",
      "  (0, 9453)\t0.014879718986690767\n",
      "  (0, 25501)\t0.014875034836838337\n",
      "  :\t:\n",
      "  (3182, 26530)\t0.012320127768566917\n",
      "  (3182, 23495)\t0.012158365297027945\n",
      "  (3182, 11659)\t0.03519128146281434\n",
      "  (3182, 9453)\t0.012335653011637892\n",
      "  (3182, 25501)\t0.012331769736201993\n",
      "  (3182, 12877)\t0.012335653011637892\n",
      "  (3182, 10783)\t0.012320127768566917\n",
      "  (3182, 20411)\t0.033152176582232844\n",
      "  (3182, 9017)\t0.05891518762325957\n",
      "  (3182, 14449)\t0.05302817984432242\n",
      "  (3182, 16942)\t0.02711068149258474\n",
      "  (3182, 17831)\t0.07228407916895839\n",
      "  (3182, 13567)\t0.09459131874251608\n",
      "  (3182, 25717)\t0.03525438583005841\n",
      "  (3182, 182)\t0.05683336535520422\n",
      "  (3182, 23463)\t0.09607022643928625\n",
      "  (3182, 10433)\t0.027466877232708672\n",
      "  (3182, 10241)\t0.02345222777979608\n",
      "  (3182, 27590)\t0.023984973325844282\n",
      "  (3182, 4656)\t0.10347329642249851\n",
      "  (3182, 14804)\t0.08351806251719701\n",
      "  (3182, 298)\t0.03103496260400434\n",
      "  (3182, 889)\t0.049207057031884036\n",
      "  (3182, 22210)\t0.03378604301243864\n",
      "  (3182, 13354)\t0.0376870037835838\n"
     ]
    }
   ],
   "source": [
    "print(X_train_features)"
   ]
  },
  {
   "cell_type": "code",
   "execution_count": 71,
   "id": "5a55f4f4",
   "metadata": {},
   "outputs": [],
   "source": [
    "model = LogisticRegression()"
   ]
  },
  {
   "cell_type": "code",
   "execution_count": 72,
   "id": "7378686b",
   "metadata": {},
   "outputs": [
    {
     "data": {
      "text/html": [
       "<style>#sk-container-id-1 {color: black;}#sk-container-id-1 pre{padding: 0;}#sk-container-id-1 div.sk-toggleable {background-color: white;}#sk-container-id-1 label.sk-toggleable__label {cursor: pointer;display: block;width: 100%;margin-bottom: 0;padding: 0.3em;box-sizing: border-box;text-align: center;}#sk-container-id-1 label.sk-toggleable__label-arrow:before {content: \"▸\";float: left;margin-right: 0.25em;color: #696969;}#sk-container-id-1 label.sk-toggleable__label-arrow:hover:before {color: black;}#sk-container-id-1 div.sk-estimator:hover label.sk-toggleable__label-arrow:before {color: black;}#sk-container-id-1 div.sk-toggleable__content {max-height: 0;max-width: 0;overflow: hidden;text-align: left;background-color: #f0f8ff;}#sk-container-id-1 div.sk-toggleable__content pre {margin: 0.2em;color: black;border-radius: 0.25em;background-color: #f0f8ff;}#sk-container-id-1 input.sk-toggleable__control:checked~div.sk-toggleable__content {max-height: 200px;max-width: 100%;overflow: auto;}#sk-container-id-1 input.sk-toggleable__control:checked~label.sk-toggleable__label-arrow:before {content: \"▾\";}#sk-container-id-1 div.sk-estimator input.sk-toggleable__control:checked~label.sk-toggleable__label {background-color: #d4ebff;}#sk-container-id-1 div.sk-label input.sk-toggleable__control:checked~label.sk-toggleable__label {background-color: #d4ebff;}#sk-container-id-1 input.sk-hidden--visually {border: 0;clip: rect(1px 1px 1px 1px);clip: rect(1px, 1px, 1px, 1px);height: 1px;margin: -1px;overflow: hidden;padding: 0;position: absolute;width: 1px;}#sk-container-id-1 div.sk-estimator {font-family: monospace;background-color: #f0f8ff;border: 1px dotted black;border-radius: 0.25em;box-sizing: border-box;margin-bottom: 0.5em;}#sk-container-id-1 div.sk-estimator:hover {background-color: #d4ebff;}#sk-container-id-1 div.sk-parallel-item::after {content: \"\";width: 100%;border-bottom: 1px solid gray;flex-grow: 1;}#sk-container-id-1 div.sk-label:hover label.sk-toggleable__label {background-color: #d4ebff;}#sk-container-id-1 div.sk-serial::before {content: \"\";position: absolute;border-left: 1px solid gray;box-sizing: border-box;top: 0;bottom: 0;left: 50%;z-index: 0;}#sk-container-id-1 div.sk-serial {display: flex;flex-direction: column;align-items: center;background-color: white;padding-right: 0.2em;padding-left: 0.2em;position: relative;}#sk-container-id-1 div.sk-item {position: relative;z-index: 1;}#sk-container-id-1 div.sk-parallel {display: flex;align-items: stretch;justify-content: center;background-color: white;position: relative;}#sk-container-id-1 div.sk-item::before, #sk-container-id-1 div.sk-parallel-item::before {content: \"\";position: absolute;border-left: 1px solid gray;box-sizing: border-box;top: 0;bottom: 0;left: 50%;z-index: -1;}#sk-container-id-1 div.sk-parallel-item {display: flex;flex-direction: column;z-index: 1;position: relative;background-color: white;}#sk-container-id-1 div.sk-parallel-item:first-child::after {align-self: flex-end;width: 50%;}#sk-container-id-1 div.sk-parallel-item:last-child::after {align-self: flex-start;width: 50%;}#sk-container-id-1 div.sk-parallel-item:only-child::after {width: 0;}#sk-container-id-1 div.sk-dashed-wrapped {border: 1px dashed gray;margin: 0 0.4em 0.5em 0.4em;box-sizing: border-box;padding-bottom: 0.4em;background-color: white;}#sk-container-id-1 div.sk-label label {font-family: monospace;font-weight: bold;display: inline-block;line-height: 1.2em;}#sk-container-id-1 div.sk-label-container {text-align: center;}#sk-container-id-1 div.sk-container {/* jupyter's `normalize.less` sets `[hidden] { display: none; }` but bootstrap.min.css set `[hidden] { display: none !important; }` so we also need the `!important` here to be able to override the default hidden behavior on the sphinx rendered scikit-learn.org. See: https://github.com/scikit-learn/scikit-learn/issues/21755 */display: inline-block !important;position: relative;}#sk-container-id-1 div.sk-text-repr-fallback {display: none;}</style><div id=\"sk-container-id-1\" class=\"sk-top-container\"><div class=\"sk-text-repr-fallback\"><pre>LogisticRegression()</pre><b>In a Jupyter environment, please rerun this cell to show the HTML representation or trust the notebook. <br />On GitHub, the HTML representation is unable to render, please try loading this page with nbviewer.org.</b></div><div class=\"sk-container\" hidden><div class=\"sk-item\"><div class=\"sk-estimator sk-toggleable\"><input class=\"sk-toggleable__control sk-hidden--visually\" id=\"sk-estimator-id-1\" type=\"checkbox\" checked><label for=\"sk-estimator-id-1\" class=\"sk-toggleable__label sk-toggleable__label-arrow\">LogisticRegression</label><div class=\"sk-toggleable__content\"><pre>LogisticRegression()</pre></div></div></div></div></div>"
      ],
      "text/plain": [
       "LogisticRegression()"
      ]
     },
     "execution_count": 72,
     "metadata": {},
     "output_type": "execute_result"
    }
   ],
   "source": [
    "model.fit(X_train_features, Y_train)"
   ]
  },
  {
   "cell_type": "code",
   "execution_count": 73,
   "id": "2786f062",
   "metadata": {},
   "outputs": [],
   "source": [
    "prediction_on_training_data = model.predict(X_train_features)\n",
    "accuracy_on_training_data = accuracy_score(Y_train, prediction_on_training_data)"
   ]
  },
  {
   "cell_type": "code",
   "execution_count": 74,
   "id": "49c29328",
   "metadata": {},
   "outputs": [
    {
     "name": "stdout",
     "output_type": "stream",
     "text": [
      "Accuracy on training data :  0.9214577442664154\n"
     ]
    }
   ],
   "source": [
    "print('Accuracy on training data : ', accuracy_on_training_data)"
   ]
  },
  {
   "cell_type": "code",
   "execution_count": 75,
   "id": "4ec69529",
   "metadata": {},
   "outputs": [],
   "source": [
    "prediction_on_test_data = model.predict(X_test_features)\n",
    "accuracy_on_test_data = accuracy_score(Y_test, prediction_on_test_data)"
   ]
  },
  {
   "cell_type": "code",
   "execution_count": 76,
   "id": "0b955c27",
   "metadata": {},
   "outputs": [
    {
     "name": "stdout",
     "output_type": "stream",
     "text": [
      "Accuracy on test data :  0.9020100502512562\n"
     ]
    }
   ],
   "source": [
    "print('Accuracy on test data : ', accuracy_on_test_data)"
   ]
  }
 ],
 "metadata": {
  "kernelspec": {
   "display_name": "Python 3",
   "language": "python",
   "name": "python3"
  },
  "language_info": {
   "codemirror_mode": {
    "name": "ipython",
    "version": 3
   },
   "file_extension": ".py",
   "mimetype": "text/x-python",
   "name": "python",
   "nbconvert_exporter": "python",
   "pygments_lexer": "ipython3",
   "version": "3.10.12"
  }
 },
 "nbformat": 4,
 "nbformat_minor": 5
}
